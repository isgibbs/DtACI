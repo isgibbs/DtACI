{
 "cells": [
  {
   "cell_type": "code",
   "execution_count": 7,
   "id": "a01bdd43-564a-47d4-b310-49b35eed8015",
   "metadata": {},
   "outputs": [],
   "source": [
    "### This file contains code to reproduce the volatility prediction experiments found in https://arxiv.org/abs/2208.08401 \n",
    "source(\"DtACI.R\")\n",
    "source(\"MVP.R\")\n",
    "source(\"AgACI.R\")\n",
    "library(rugarch)"
   ]
  },
  {
   "cell_type": "code",
   "execution_count": 2,
   "id": "3222f9dc-2819-49cb-bdf5-ba6ffd481a9f",
   "metadata": {},
   "outputs": [],
   "source": [
    "### Compute sequence of conformity scores by fitting Garch(garchP,garchQ) model. \n",
    "### Returns is a sequence of stock market returns, lookback specifies the dataset \\{R_s\\}_{t-lookback+1 \\leq s \\leq t-1}\n",
    "### used to fit the model and make predictions at time t, startup specifies the first time we make a prediction set,\n",
    "### badscores = FALSE means we use the conformity scores S_t := |V_t- \\hat{\\sigma}^2_t|/\\hat{\\sigma}^2_t else we use\n",
    "### S_t := |V_t- \\hat{\\sigma}^2_t|\n",
    "garchConformalForcastingComputeScores <- function(returns,lookback=1250,garchP=1,garchQ=1,startUp = 100,badScores=FALSE){\n",
    "  T <- length(returns)\n",
    "  startUp <- max(startUp,lookback)\n",
    "  garchSpec <- ugarchspec(mean.model=list(armaOrder = c(0, 0),include.mean=FALSE),variance.model=list(model=\"sGARCH\",garchOrder=c(1,1)),distribution.model=\"norm\")\n",
    "  scores <- rep(0,T-startUp+1)\n",
    "  sigmaSeq <- rep(0,T-startUp+1)\n",
    "  \n",
    "  for(t in startUp:T){\n",
    "    garchFit <- ugarchfit(garchSpec, returns[(t-lookback+1):(t-1) ],solver=\"hybrid\")\n",
    "    sigmaNext <- sigma(ugarchforecast(garchFit,n.ahead=1))\n",
    "    if(!badScores){\n",
    "      scores[t-startUp + 1] <- abs(returns[t]^2- sigmaNext^2)/sigmaNext^2\n",
    "    }else{\n",
    "      scores[t-startUp + 1] <- abs(returns[t]^2- sigmaNext^2)\n",
    "    }\n",
    "    sigmaSeq[t-startUp + 1] <- sigmaNext^2\n",
    "    \n",
    "  }\n",
    "  return(list(scores,sigmaSeq))\n",
    "}\n",
    "\n",
    "### Use a binary search to find the lowest quantile of recentScores that is above curScore\n",
    "### Epsilon gives numerical error tolerance in the binary search\n",
    "findBeta <- function(recentScores,curScore,epsilon=0.001){\n",
    "  top <- 1\n",
    "  bot <- 0\n",
    "  mid <- (top+bot)/2\n",
    "  while(top-bot > epsilon){\n",
    "    if(quantile(recentScores,1-mid)>curScore){\n",
    "      bot <- mid\n",
    "      mid <- (top+bot)/2\n",
    "    }else{\n",
    "      top <- mid\n",
    "      mid <- (top+bot)/2\n",
    "    }\n",
    "  }\n",
    "  return(mid)\n",
    "}\n",
    "\n",
    "### Given a sequence of conformity scores compute the corresponding values for beta_t\n",
    "### Epsilon gives numerical error tolerance in a binary search\n",
    "garchConformalForcastingComputeBetas <- function(scores,lookback=Inf,epsilon=0.001){\n",
    "  T <- length(scores)\n",
    "  ### Initialize data storage variables\n",
    "  betaSeq <- rep(0,T-1)\n",
    "  \n",
    "  for(t in 2:T){\n",
    "    recentScores <- scores[max(t- lookback,1):(t-1)]\n",
    "    betaSeq[t-1] <- findBeta(recentScores,scores[t],epsilon)\n",
    "  }\n",
    "  \n",
    "  return(betaSeq)\n",
    "}\n"
   ]
  },
  {
   "cell_type": "code",
   "execution_count": 3,
   "id": "c330d95c-0228-4de2-947f-5877ca70d184",
   "metadata": {},
   "outputs": [],
   "source": [
    "### Get stock market price data\n",
    "amd <- read.csv(\"MajorDailyReturns/AMDDailyPrices.csv\",header=TRUE)\n",
    "nividia <- read.csv(\"MajorDailyReturns/NividiaDailyPrices.csv\",header=TRUE)\n",
    "blackberry <- read.csv(\"MajorDailyReturns/BlackberryDailyPrices.csv\",header=TRUE)\n",
    "fannie <- read.csv(\"MajorDailyReturns/FannieMaeDailyPrices.csv\",header=TRUE)\n",
    "pricesAMD <- rev(amd$Open)\n",
    "returnsAMD <- sapply(2:length(pricesAMD),function(x){(pricesAMD[x] - pricesAMD[x-1])/pricesAMD[x-1]})\n",
    "returnsAMD <- returnsAMD[(length(returnsAMD)-7500):length(returnsAMD)]\n",
    "pricesBlackberry<- rev(blackberry$Open)\n",
    "returnsBlackberry <- sapply(2:length(pricesBlackberry),function(x){(pricesBlackberry[x] - pricesBlackberry[x-1])/pricesBlackberry[x-1]})\n",
    "pricesNividia <- rev(nividia$Open)\n",
    "returnsNividia <- sapply(2:length(pricesNividia),function(x){(pricesNividia[x] - pricesNividia[x-1])/pricesNividia[x-1]})\n",
    "pricesFannie <- rev(fannie$Open)\n",
    "returnsFannie <- sapply(2:length(pricesFannie),function(x){(pricesFannie[x] - pricesFannie[x-1])/pricesFannie[x-1]})\n",
    "returnsFannie <- returnsFannie[(length(returnsFannie)-7500):length(returnsFannie)]\n",
    "\n",
    "### Compute all conformity scores\n",
    "lookback <- 1250\n",
    "amdScores <- garchConformalForcastingComputeScores(returnsAMD,lookback=lookback)\n",
    "blackberryScores <- garchConformalForcastingComputeScores(returnsBlackberry,lookback=lookback)\n",
    "nividiaScores <- garchConformalForcastingComputeScores(returnsNividia,lookback=lookback)\n",
    "fannieScores <- garchConformalForcastingComputeScores(returnsFannie,lookback=lookback)\n",
    "\n",
    "amdBadScores <- garchConformalForcastingComputeScores(returnsAMD,lookback=lookback,badScores=TRUE)\n",
    "blackberryBadScores <- garchConformalForcastingComputeScores(returnsBlackberry,lookback=lookback,badScores=TRUE)\n",
    "nividiaBadScores <- garchConformalForcastingComputeScores(returnsNividia,lookback=lookback,badScores=TRUE)\n",
    "fannieBadScores <- garchConformalForcastingComputeScores(returnsFannie,lookback=lookback,badScores=TRUE)\n",
    "\n",
    "### Compute betas\n",
    "amdBetas <- garchConformalForcastingComputeBetas(amdScores[[1]],lookback=lookback)\n",
    "blackberryBetas <- garchConformalForcastingComputeBetas(blackberryScores[[1]],lookback=lookback)\n",
    "nividiaBetas <- garchConformalForcastingComputeBetas(nividiaScores[[1]],lookback=lookback)\n",
    "fannieBetas <- garchConformalForcastingComputeBetas(fannieScores[[1]],lookback=lookback)\n",
    "\n",
    "amdBadBetas <- garchConformalForcastingComputeBetas(amdBadScores[[1]],lookback=lookback)\n",
    "blackberryBadBetas <- garchConformalForcastingComputeBetas(blackberryBadScores[[1]],lookback=lookback)\n",
    "nividiaBadBetas <- garchConformalForcastingComputeBetas(nividiaBadScores[[1]],lookback=lookback)\n",
    "fannieBadBetas <- garchConformalForcastingComputeBetas(fannieBadScores[[1]],lookback=lookback)"
   ]
  },
  {
   "cell_type": "code",
   "execution_count": 14,
   "id": "237cb9c6-3bad-41ca-abc4-8c8caf62c259",
   "metadata": {},
   "outputs": [],
   "source": [
    "### Run DtACI\n",
    "alpha <- 0.1\n",
    "gammaGrid <- c(0.001,0.002,0.004,0.008,0.0160,0.032,0.064,0.128)\n",
    "Keps <- 2.12\n",
    "amdStableGridGammas <- conformalAdaptStable(amdBetas,alpha,gammaGrid,sigma=1/1000,eta=2.72)\n",
    "blackberryStableGridGammas <- conformalAdaptStable(blackberryBetas,alpha,gammaGrid,sigma=1/1000,eta=2.72)\n",
    "nividiaStableGridGammas <- conformalAdaptStable(nividiaBetas,alpha,gammaGrid,sigma=1/1000,eta=2.72)\n",
    "fannieStableGridGammas <- conformalAdaptStable(fannieBetas,alpha,gammaGrid,sigma=1/1000,eta=2.72)\n",
    "\n",
    "amdStableGridGammasBad <- conformalAdaptStable(amdBadBetas,alpha,gammaGrid,sigma=1/1000,eta=2.72)\n",
    "blackberryStableGridGammasBad <- conformalAdaptStable(blackberryBadBetas,alpha,gammaGrid,sigma=1/1000,eta=2.72)\n",
    "nividiaStableGridGammasBad <- conformalAdaptStable(nividiaBadBetas,alpha,gammaGrid,sigma=1/1000,eta=2.72)\n",
    "fannieStableGridGammasBad <- conformalAdaptStable(fannieBadBetas,alpha,gammaGrid,sigma=1/1000,eta=2.72)\n",
    "\n",
    "### Run MVP\n",
    "amdMVP <- MVP(1-amdBetas,alpha,Keps = Keps)\n",
    "blackberryMVP <- MVP(1-blackberryBetas,alpha,Keps = Keps)\n",
    "nividiaMVP <- MVP(1-nividiaBetas,alpha,Keps = Keps)\n",
    "fannieMVP <- MVP(1-fannieBetas,alpha,Keps = Keps)\n",
    "\n",
    "amdMVPBad <- MVP(1-amdBadBetas,alpha,Keps = Keps)\n",
    "blackberryMVPBad <- MVP(1-blackberryBadBetas,alpha,Keps = Keps)\n",
    "nividiaMVPBad <- MVP(1-nividiaBadBetas,alpha,Keps = Keps)\n",
    "fannieMVPBad <- MVP(1-fannieBadBetas,alpha,Keps = Keps)\n",
    "\n",
    "### Run AgACI\n",
    "amdAgACI <- agaci(amdBetas,alpha,gammaGrid)\n",
    "blackberryAgACI <- agaci(blackberryBetas,alpha,gammaGrid)\n",
    "nividiaAgACI <- agaci(nividiaBetas,alpha,gammaGrid)\n",
    "fannieAgACI <- agaci(fannieBetas,alpha,gammaGrid)\n",
    "\n",
    "amdAgACIBad <- agaci(amdBadBetas,alpha,gammaGrid)\n",
    "blackberryAgACIBad <- agaci(blackberryBadBetas,alpha,gammaGrid)\n",
    "nividiaAgACIBad <- agaci(nividiaBadBetas,alpha,gammaGrid)\n",
    "fannieAgACIBad <- agaci(fannieBadBetas,alpha,gammaGrid)"
   ]
  },
  {
   "cell_type": "code",
   "execution_count": 15,
   "id": "01b097bd-1fb7-45c9-88f2-bf3fe9166fe3",
   "metadata": {},
   "outputs": [],
   "source": [
    "### Code to make plots\n",
    "\n",
    "library(tidyr)\n",
    "library(dplyr)\n",
    "library(cowplot)\n",
    "\n",
    "localMean <- function(seq,index,bandwidth,bottom=300){\n",
    "  bottomIndex <- max(1,index-bottom+1)\n",
    "  weights <- (bandwidth)^(bottomIndex:index)\n",
    "  weights <- weights/sum(weights)\n",
    "  return(sum(weights*seq[bottomIndex:index]))\n",
    "}\n",
    "\n",
    "makeCoveragePlot <- function(errMat,dates,alpha=0.1,smoothingWidth=500,cols = c(\"dtaci\",\"agaci\",\"mvp\",\"split\"),\n",
    "                     xlabel = \"Time\",ylabel = \"Coverage\",colors=c(4,2,3,1),legendNames=cols,timeCutoff=0,lineSize=4,lineTyping=FALSE, alphaC = 0.8){\n",
    "  T <- nrow(errMat)\n",
    "  if(is.null(dates)){\n",
    "      dates <- 1:T\n",
    "  }\n",
    "  errMatSmooth <- matrix(0,nrow=nrow(errMat),ncol=ncol(errMat))\n",
    "  if(smoothingWidth>0){\n",
    "    for(i in 1:length(cols)){\n",
    "      errMatSmooth[,i] <- 1-sapply(1:T,function(x){localMean(errMat[,i],x,bandwidth=1,bottom=smoothingWidth)})\n",
    "    }\n",
    "  }\n",
    "    \n",
    "  colnames(errMatSmooth) <- cols\n",
    "  finalMat <- as.data.frame(errMatSmooth)\n",
    "  finalMat$Time <- dates\n",
    "  finalMat <- pivot_longer(finalMat,cols=1:length(cols)) \n",
    "  colnames(finalMat) = c(\"Time\",\"Method\",\"Coverage\")\n",
    "  if(timeCutoff>0){\n",
    "     finalMat <- finalMat[-(1:timeCutoff),]\n",
    "  }\n",
    "  if(lineTyping){\n",
    "      p <- ggplot(finalMat,aes(x=Time, y=Coverage, group=Method,color=Method,linetype=Method))\n",
    "  }else{\n",
    "      p <- ggplot(finalMat,aes(x=Time, y=Coverage, group=Method,color=Method))\n",
    "  }\n",
    "  p <- p + geom_line(alpha=alphaC,size=lineSize) \n",
    "  p <- p + xlab(xlabel) + ylab(ylabel)  \n",
    "  p <- p +  theme_bw() + theme(axis.text=element_text(size=40),axis.title=element_text(size=50,face=\"plain\")) \n",
    "  p <- p + geom_hline(yintercept=1-alpha, linetype=\"dashed\", color = \"black\",size = 4) \n",
    "  for(i in 1:ncol(errMat)){\n",
    "     p <- p + geom_hline(yintercept=1-mean(errMat[,i]), linetype=\"dashed\", color = colors[i],size = 4)   \n",
    "  }\n",
    "  return(p)\n",
    "}\n"
   ]
  },
  {
   "cell_type": "code",
   "execution_count": 16,
   "id": "ef46cd65-7a92-491b-b19c-dee2702729b5",
   "metadata": {},
   "outputs": [
    {
     "name": "stderr",
     "output_type": "stream",
     "text": [
      "Warning message in get_plot_component(plot, \"guide-box\"):\n",
      "“Multiple components found; returning the first one. To return all, use `return_all = TRUE`.”\n"
     ]
    },
    {
     "data": {
      "text/html": [
       "<strong>pdf:</strong> 2"
      ],
      "text/latex": [
       "\\textbf{pdf:} 2"
      ],
      "text/markdown": [
       "**pdf:** 2"
      ],
      "text/plain": [
       "pdf \n",
       "  2 "
      ]
     },
     "metadata": {},
     "output_type": "display_data"
    }
   ],
   "source": [
    "library(gridExtra)\n",
    "library(ggplot2)\n",
    "### Plot some of the results\n",
    "allDates <- list(nividia$Date[1:length(nividiaStableGridGammas[[1]])],\n",
    "                 amd$Date[1:length(amdStableGridGammas[[1]])],\n",
    "                 blackberry$Date[1:length(blackberryStableGridGammas[[1]])],\n",
    "                 fannie$Date[1:length(fannieStableGridGammas[[1]])])\n",
    "for(d in 1:length(allDates)){\n",
    "  allDates[[d]] <- rev(allDates[[d]])\n",
    "  allDates[[d]] <- as.Date(allDates[[d]], '%m/%d/%y')\n",
    "}\n",
    "\n",
    "errSeqsAMDBad <- cbind(amdStableGridGammasBad[[6]],amdStableGridGammasBad[[3]],amdMVPBad[[2]],amdAgACIBad[[2]])\n",
    "errSeqsBBBad <- cbind(blackberryStableGridGammasBad[[6]],blackberryStableGridGammasBad[[3]],blackberryMVPBad[[2]],blackberryAgACIBad[[2]])\n",
    "errSeqsNvidiaBad <- cbind(nividiaStableGridGammasBad[[6]],nividiaStableGridGammasBad[[3]],nividiaMVPBad[[2]],nividiaAgACIBad[[2]])\n",
    "errSeqsFannieBad <- cbind(fannieStableGridGammasBad[[6]],fannieStableGridGammasBad[[3]],fannieMVPBad[[2]],fannieAgACIBad[[2]])\n",
    "\n",
    "amdPlotBad <- makeCoveragePlot(errSeqsAMDBad,allDates[[2]],alpha,cols=c(\"DtACI\",\"Constant Baseline\",\"MVP\",\"AgACI\"),colors=c(4,7,3,2),timeCutoff=500)\n",
    "amdPlotBad <- amdPlotBad + scale_colour_manual(name=\"Method\",values = c(\"DtACI\"=4,\"AgACI\"=2,\"MVP\"=3,\"Constant Baseline\"=7),\n",
    "                                                             labels=c(\"DtACI\",\"AgACI\",\"MVP\",\"Constant Baseline\"),\n",
    "                                                             aesthetics = c(\"color\")) + ylim(0.37,1) +\n",
    "                    theme(axis.text.x = element_blank(),axis.ticks.x = element_blank(),axis.title.x = element_blank(),\n",
    "                         axis.text.y = element_blank(),axis.ticks.y = element_blank(),axis.title.y = element_blank()) +\n",
    "                    theme(legend.key.width = unit(1,\"cm\"))\n",
    "bbPlotBad <- makeCoveragePlot(errSeqsBBBad,allDates[[3]],alpha,cols=c(\"DtACI\",\"Constant Baseline\",\"MVP\",\"AgACI\"),colors=c(4,7,3,2),timeCutoff=500)\n",
    "bbPlotBad <- bbPlotBad + scale_colour_manual(name=\"Method\",values = c(\"DtACI\"=4,\"AgACI\"=2,\"MVP\"=3,\"Constant Baseline\"=7),\n",
    "                                                             labels=c(\"DtACI\",\"AgACI\",\"MVP\",\"Constant Baseline\"),\n",
    "                                                             aesthetics = c(\"color\"))  + ylim(0.37,1)\n",
    "nvidiaPlotBad <- makeCoveragePlot(errSeqsNvidiaBad,allDates[[1]],alpha,cols=c(\"DtACI\",\"Constant Baseline\",\"MVP\",\"AgACI\"),colors=c(4,7,3,2),timeCutoff=500)\n",
    "nvidiaPlotBad <- nvidiaPlotBad + scale_colour_manual(name=\"Method\",values = c(\"DtACI\"=4,\"AgACI\"=2,\"MVP\"=3,\"Constant Baseline\"=7),\n",
    "                                                             labels=c(\"DtACI\",\"AgACI\",\"MVP\",\"Constant Baseline\"),\n",
    "                                                             aesthetics = c(\"color\")) + ylim(0.37,1) +\n",
    "                            theme(axis.text.x = element_blank(),axis.ticks.x = element_blank(),axis.title.x = element_blank())\n",
    "fanniePlotBad <- makeCoveragePlot(errSeqsFannieBad,allDates[[4]],alpha,cols=c(\"DtACI\",\"Constant Baseline\",\"MVP\",\"AgACI\"),colors=c(4,7,3,2),timeCutoff=500)\n",
    "fanniePlotBad <- fanniePlotBad + scale_colour_manual(name=\"Method\",values = c(\"DtACI\"=4,\"AgACI\"=2,\"MVP\"=3,\"Constant Baseline\"=7),\n",
    "                                                             labels=c(\"DtACI\",\"AgACI\",\"MVP\",\"Constant Baseline\"),\n",
    "                                                             aesthetics = c(\"color\")) + ylim(0.37,1)  + \n",
    "                            theme(axis.text.y = element_blank(),axis.ticks.y = element_blank(),axis.title.y = element_blank())\n",
    "\n",
    "legend <- get_legend(amdPlotBad+theme(legend.position = \"top\",legend.text=element_text(size=60),legend.title=element_blank(),\n",
    "                                     legend.key.width = unit(3,\"line\")))\n",
    "blankplot <- ggplot()+geom_blank(aes(1,1)) + cowplot::theme_nothing()\n",
    "\n",
    "nvidiaPlotBad <- nvidiaPlotBad +  annotate('text',x=as.Date(\"2005-06-01\"), y=0.99, label=\"Nvidia\",size=18,fontface=\"bold\") + theme(legend.position = \"none\")\n",
    "amdPlotBad <- amdPlotBad  +  annotate('text',x=as.Date(\"1997-10-20\"), y=0.99, label=\"AMD\",size=18,fontface=\"bold\") + theme(legend.position = \"none\")\n",
    "bbPlotBad <- bbPlotBad +  annotate('text',x=as.Date(\"2006-09-01\"), y=0.99, label=\"BlackBerry\",size=18,fontface=\"bold\") + theme(legend.position = \"none\")\n",
    "fanniePlotBad <- fanniePlotBad +  annotate('text',x=as.Date(\"2000-02-20\"), y=0.99, label=\"Fannie Mae\",size=18,fontface=\"bold\") + theme(legend.position = \"none\")\n",
    "\n",
    "options(repr.plot.width=25, repr.plot.height=15)\n",
    "\n",
    "pdf(\"Figures/VolatilityCoverageBad.pdf\", width=30, height = 20)\n",
    "grid.arrange(legend,blankplot,nvidiaPlotBad,amdPlotBad,bbPlotBad,fanniePlotBad,ncol=2,widths=c(3.5,3),heights = c(0.4,2,2.5))\n",
    "dev.off()"
   ]
  },
  {
   "cell_type": "code",
   "execution_count": 17,
   "id": "5f39c581-c0b5-4ec0-a7a7-3f527115fefc",
   "metadata": {},
   "outputs": [
    {
     "name": "stderr",
     "output_type": "stream",
     "text": [
      "Warning message:\n",
      "“\u001b[1m\u001b[22mRemoved 244 rows containing missing values or values outside the scale range\n",
      "(`geom_line()`).”\n",
      "Warning message in get_plot_component(plot, \"guide-box\"):\n",
      "“Multiple components found; returning the first one. To return all, use `return_all = TRUE`.”\n",
      "Warning message:\n",
      "“\u001b[1m\u001b[22mRemoved 239 rows containing missing values or values outside the scale range\n",
      "(`geom_line()`).”\n",
      "Warning message:\n",
      "“\u001b[1m\u001b[22mRemoved 244 rows containing missing values or values outside the scale range\n",
      "(`geom_line()`).”\n",
      "Warning message:\n",
      "“\u001b[1m\u001b[22mRemoved 268 rows containing missing values or values outside the scale range\n",
      "(`geom_line()`).”\n",
      "Warning message:\n",
      "“\u001b[1m\u001b[22mRemoved 244 rows containing missing values or values outside the scale range\n",
      "(`geom_line()`).”\n"
     ]
    },
    {
     "data": {
      "text/html": [
       "<strong>pdf:</strong> 2"
      ],
      "text/latex": [
       "\\textbf{pdf:} 2"
      ],
      "text/markdown": [
       "**pdf:** 2"
      ],
      "text/plain": [
       "pdf \n",
       "  2 "
      ]
     },
     "metadata": {},
     "output_type": "display_data"
    }
   ],
   "source": [
    "errSeqsAMD <- cbind(amdStableGridGammas[[6]],amdStableGridGammas[[3]],amdMVP[[2]],amdAgACI[[2]])\n",
    "errSeqsBB <- cbind(blackberryStableGridGammas[[6]],blackberryStableGridGammas[[3]],blackberryMVP[[2]],blackberryAgACI[[2]])\n",
    "errSeqsNvidia <- cbind(nividiaStableGridGammas[[6]],nividiaStableGridGammas[[3]],nividiaMVP[[2]],nividiaAgACI[[2]])\n",
    "errSeqsFannie <- cbind(fannieStableGridGammas[[6]],fannieStableGridGammas[[3]],fannieMVP[[2]],fannieAgACI[[2]])\n",
    "\n",
    "amdPlot <- makeCoveragePlot(errSeqsAMD,allDates[[2]],alpha,cols=c(\"DtACI\",\"Constant Baseline\",\"MVP\",\"AgACI\"),colors=c(4,7,3,2),timeCutoff=500)\n",
    "amdPlot <- amdPlot + scale_colour_manual(name=\"Method\",values = c(\"DtACI\"=4,\"AgACI\"=2,\"MVP\"=3,\"Constant Baseline\"=7),\n",
    "                                                             labels=c(\"DtACI\",\"AgACI\",\"MVP\",\"Constant Baseline\"),\n",
    "                                                             aesthetics = c(\"color\")) + ylim(0.8,0.965) +\n",
    "                    theme(axis.text.x = element_blank(),axis.ticks.x = element_blank(),axis.title.x = element_blank(),\n",
    "                         axis.text.y = element_blank(),axis.ticks.y = element_blank(),axis.title.y = element_blank()) +\n",
    "                    theme(legend.key.width = unit(1,\"cm\"))\n",
    "bbPlot <- makeCoveragePlot(errSeqsBB,allDates[[3]],alpha,cols=c(\"DtACI\",\"Constant Baseline\",\"MVP\",\"AgACI\"),colors=c(4,7,3,2),timeCutoff=500)\n",
    "bbPlot <- bbPlot + scale_colour_manual(name=\"Method\",values = c(\"DtACI\"=4,\"AgACI\"=2,\"MVP\"=3,\"Constant Baseline\"=7),\n",
    "                                                             labels=c(\"DtACI\",\"AgACI\",\"MVP\",\"Constant Baseline\"),\n",
    "                                                             aesthetics = c(\"color\"))  + ylim(0.8,0.965)\n",
    "nvidiaPlot <- makeCoveragePlot(errSeqsNvidia,allDates[[1]],alpha,cols=c(\"DtACI\",\"Constant Baseline\",\"MVP\",\"AgACI\"),colors=c(4,7,3,2),timeCutoff=500)\n",
    "nvidiaPlot <- nvidiaPlot + scale_colour_manual(name=\"Method\",values = c(\"DtACI\"=4,\"AgACI\"=2,\"MVP\"=3,\"Constant Baseline\"=7),\n",
    "                                                             labels=c(\"DtACI\",\"AgACI\",\"MVP\",\"Split\"),\n",
    "                                                             aesthetics = c(\"color\")) + ylim(0.8,0.965) +\n",
    "                            theme(axis.text.x = element_blank(),axis.ticks.x = element_blank(),axis.title.x = element_blank())\n",
    "fanniePlot <- makeCoveragePlot(errSeqsFannie,allDates[[4]],alpha,cols=c(\"DtACI\",\"Constant Baseline\",\"MVP\",\"AgACI\"),colors=c(4,7,3,2),timeCutoff=500)\n",
    "fanniePlot <- fanniePlot + scale_colour_manual(name=\"Method\",values = c(\"DtACI\"=4,\"AgACI\"=2,\"MVP\"=3,\"Constant Baseline\"=7),\n",
    "                                                             labels=c(\"DtACI\",\"AgACI\",\"MVP\",\"Constant Baseline\"),\n",
    "                                                             aesthetics = c(\"color\")) + ylim(0.8,0.965)  + \n",
    "                            theme(axis.text.y = element_blank(),axis.ticks.y = element_blank(),axis.title.y = element_blank())\n",
    "\n",
    "legend <- get_legend(amdPlot+theme(legend.position = \"top\",legend.text=element_text(size=60),legend.title=element_blank(),\n",
    "                                   legend.key.width = unit(3,\"line\")))\n",
    "blankplot <- ggplot()+geom_blank(aes(1,1)) + cowplot::theme_nothing()\n",
    "\n",
    "nvidiaPlot <- nvidiaPlot +  annotate('text',x=as.Date(\"2005-06-01\"), y=0.958, label=\"Nvidia\",size=18,fontface=\"bold\") + theme(legend.position = \"none\")\n",
    "amdPlot <- amdPlot  +  annotate('text',x=as.Date(\"1997-09-20\"), y=0.958, label=\"AMD\",size=18,fontface=\"bold\") + theme(legend.position = \"none\")\n",
    "bbPlot <- bbPlot +  annotate('text',x=as.Date(\"2006-09-01\"), y=0.958, label=\"BlackBerry\",size=18,fontface=\"bold\") + theme(legend.position = \"none\")\n",
    "fanniePlot <- fanniePlot +  annotate('text',x=as.Date(\"2000-02-20\"), y=0.958, label=\"Fannie Mae\",size=18,fontface=\"bold\") + theme(legend.position = \"none\")\n",
    "\n",
    "pdf(\"Figures/VolatilityCoverage.pdf\", width=30, height = 20)\n",
    "grid.arrange(legend,blankplot,nvidiaPlot,amdPlot,bbPlot,fanniePlot,ncol=2,widths=c(3.5,3),heights = c(0.4,2,2.5))\n",
    "dev.off()"
   ]
  },
  {
   "cell_type": "code",
   "execution_count": 21,
   "id": "e64e5aeb-3e31-470a-a39f-15a394a8f424",
   "metadata": {},
   "outputs": [
    {
     "name": "stdout",
     "output_type": "stream",
     "text": [
      "[1] 0.03\n",
      "[1] 0.028\n",
      "[1] 0.028\n",
      "[1] 0.034\n"
     ]
    },
    {
     "data": {
      "text/html": [
       "<strong>pdf:</strong> 2"
      ],
      "text/latex": [
       "\\textbf{pdf:} 2"
      ],
      "text/markdown": [
       "**pdf:** 2"
      ],
      "text/plain": [
       "pdf \n",
       "  2 "
      ]
     },
     "metadata": {},
     "output_type": "display_data"
    }
   ],
   "source": [
    "### Make qq plots\n",
    "\n",
    "gg_qq_empirical <- function(a, b, quantiles=seq(0.05,0.95,0.1)) \n",
    "{\n",
    "  ggplot(mapping = aes(x = quantile(a, quantiles), \n",
    "                       y = quantile(b, quantiles))) + \n",
    "    geom_point(size = 6) +\n",
    "    geom_abline(aes(slope = 1, intercept = 0), linetype = 2, size = 2) +\n",
    "    labs(x = paste(deparse(substitute(a)), \"quantiles\"), \n",
    "         y = paste(deparse(substitute(b)), \"quantiles\"))\n",
    "}\n",
    "\n",
    "plotBerQQ <- function(errs,alpha=0.1,smoothingWidth=500, nber = 100000){\n",
    "  \n",
    "    T <- length(errs)\n",
    "    \n",
    "    if(smoothingWidth>0){\n",
    "        errs <- abs(sapply(1:T,function(x){localMean(errs,x,bandwidth=1,bottom=smoothingWidth)}) - alpha)[-(1:smoothingWidth)]\n",
    "      }\n",
    "    print(max(errs))\n",
    "    \n",
    "    bernSeq <- rbinom(nber,1,alpha)\n",
    "    smoothedBer <- abs(sapply(1:nber,function(x){localMean(bernSeq,x,bandwidth=1,bottom=smoothingWidth)}) - alpha)[-(1:smoothingWidth)]\n",
    "    \n",
    "    p <- gg_qq_empirical(errs, smoothedBer) + xlab(\"Quantiles of DtACI Error Gaps\") + ylab(\"Quantiles of Bern. Error Gaps\")\n",
    "    p <- p + ylim(0,0.03) + xlim(0,0.03) + theme_bw() + theme(axis.text=element_text(size=40),axis.title=element_text(size=40,face=\"plain\")) \n",
    "    p <- p \n",
    "\n",
    "    return(p)\n",
    "}\n",
    "\n",
    "amdQQ <- plotBerQQ(amdStableGridGammas[[6]]) +  annotate('text',x=0.001, y=0.029, label=\"AMD\",size=18,fontface=\"bold\") \n",
    "nividiaQQ <- plotBerQQ(nividiaStableGridGammas[[6]]) +  annotate('text',0.0015, y=0.029, label=\"Nvidia\",size=18,fontface=\"bold\") \n",
    "blackberryQQ <- plotBerQQ(blackberryStableGridGammas[[6]]) +  annotate('text',0.0036, y=0.029, label=\"BlackBerry\",size=18,fontface=\"bold\")\n",
    "fannieQQ <- plotBerQQ(fannieStableGridGammas[[6]]) +  annotate('text',x=0.0037, y=0.029, label=\"Fannie Mae\",size=18,fontface=\"bold\")\n",
    "\n",
    "amdQQ <- amdQQ + theme(axis.text.x = element_blank(),axis.ticks.x = element_blank(),axis.title.x = element_blank(),\n",
    "                         axis.text.y = element_blank(),axis.ticks.y = element_blank(),axis.title.y = element_blank())\n",
    "nividiaQQ <- nividiaQQ + theme(axis.text.x = element_blank(),axis.ticks.x = element_blank(),axis.title.x = element_blank())\n",
    "fannieQQ <- fannieQQ + theme(axis.text.y = element_blank(),axis.ticks.y = element_blank(),axis.title.y = element_blank())\n",
    "\n",
    "pdf(\"Figures/BernComparison.pdf\", width=30, height = 20)\n",
    "options(repr.plot.width=30, repr.plot.height=20)\n",
    "\n",
    "grid.arrange(nividiaQQ,amdQQ,blackberryQQ,fannieQQ,ncol=2,widths=c(3.5,3))\n",
    "dev.off()"
   ]
  },
  {
   "cell_type": "code",
   "execution_count": 22,
   "id": "e34be5d8-b095-4e1d-b207-27d9bca12089",
   "metadata": {},
   "outputs": [
    {
     "name": "stdout",
     "output_type": "stream",
     "text": [
      "[1] 0.036\n",
      "[1] 0.028\n",
      "[1] 0.03\n",
      "[1] 0.034\n"
     ]
    },
    {
     "data": {
      "text/html": [
       "<strong>pdf:</strong> 2"
      ],
      "text/latex": [
       "\\textbf{pdf:} 2"
      ],
      "text/markdown": [
       "**pdf:** 2"
      ],
      "text/plain": [
       "pdf \n",
       "  2 "
      ]
     },
     "metadata": {},
     "output_type": "display_data"
    }
   ],
   "source": [
    "\n",
    "amdQQ <- plotBerQQ(amdStableGridGammasBad[[6]]) +  annotate('text',x=0.001, y=0.029, label=\"AMD\",size=18,fontface=\"bold\") \n",
    "nividiaQQ <- plotBerQQ(nividiaStableGridGammasBad[[6]]) +  annotate('text',0.0015, y=0.029, label=\"Nvidia\",size=18,fontface=\"bold\") \n",
    "blackberryQQ <- plotBerQQ(blackberryStableGridGammasBad[[6]]) +  annotate('text',0.0036, y=0.029, label=\"BlackBerry\",size=18,fontface=\"bold\")\n",
    "fannieQQ <- plotBerQQ(fannieStableGridGammasBad[[6]]) +  annotate('text',x=0.0037, y=0.029, label=\"Fannie Mae\",size=18,fontface=\"bold\") \n",
    "\n",
    "amdQQ <- amdQQ + theme(axis.text.x = element_blank(),axis.ticks.x = element_blank(),axis.title.x = element_blank(),\n",
    "                         axis.text.y = element_blank(),axis.ticks.y = element_blank(),axis.title.y = element_blank())\n",
    "nividiaQQ <- nividiaQQ + theme(axis.text.x = element_blank(),axis.ticks.x = element_blank(),axis.title.x = element_blank())\n",
    "fannieQQ <- fannieQQ + theme(axis.text.y = element_blank(),axis.ticks.y = element_blank(),axis.title.y = element_blank())\n",
    "\n",
    "pdf(\"Figures/BernComparisonBad.pdf\", width=30, height = 20)\n",
    "#options(repr.plot.width=30, repr.plot.height=20)\n",
    "\n",
    "grid.arrange(nividiaQQ,amdQQ,blackberryQQ,fannieQQ,ncol=2,widths=c(3.5,3))\n",
    "dev.off()"
   ]
  },
  {
   "cell_type": "markdown",
   "id": "00899d83-d34e-4710-a40e-2ca073062a5d",
   "metadata": {},
   "source": [
    "### Fixed versus dynamic eta"
   ]
  },
  {
   "cell_type": "code",
   "execution_count": 24,
   "id": "88a46ecc-e361-45c1-8102-21e5d7eea7ff",
   "metadata": {},
   "outputs": [],
   "source": [
    "### Compute results for a dynamic eta\n",
    "\n",
    "amdStableGridGammasDEta <- conformalAdaptStable(amdBetas,alpha,gammaGrid,sigma=1/1000,eta=2.72,etaAdapt=TRUE)\n",
    "blackberryStableGridGammasDEta <- conformalAdaptStable(blackberryBetas,alpha,gammaGrid,sigma=1/1000,eta=2.72,etaAdapt=TRUE)\n",
    "nividiaStableGridGammasDEta <- conformalAdaptStable(nividiaBetas,alpha,gammaGrid,sigma=1/1000,eta=2.72,etaAdapt=TRUE)\n",
    "fannieStableGridGammasDEta <- conformalAdaptStable(fannieBetas,alpha,gammaGrid,sigma=1/1000,eta=2.72,etaAdapt=TRUE)\n",
    "\n",
    "amdStableGridGammasBadDEta <- conformalAdaptStable(amdBadBetas,alpha,gammaGrid,sigma=1/1000,eta=2.72,etaAdapt=TRUE)\n",
    "blackberryStableGridGammasBadDEta <- conformalAdaptStable(blackberryBadBetas,alpha,gammaGrid,sigma=1/1000,eta=2.72,etaAdapt=TRUE)\n",
    "nividiaStableGridGammasBadDEta <- conformalAdaptStable(nividiaBadBetas,alpha,gammaGrid,sigma=1/1000,eta=2.72,etaAdapt=TRUE)\n",
    "fannieStableGridGammasBadDEta <- conformalAdaptStable(fannieBadBetas,alpha,gammaGrid,sigma=1/1000,eta=2.72,etaAdapt=TRUE)\n"
   ]
  },
  {
   "cell_type": "code",
   "execution_count": 25,
   "id": "8a487db3-19a9-4af6-8689-666bacf28e8b",
   "metadata": {},
   "outputs": [
    {
     "name": "stderr",
     "output_type": "stream",
     "text": [
      "Warning message in get_plot_component(plot, \"guide-box\"):\n",
      "“Multiple components found; returning the first one. To return all, use `return_all = TRUE`.”\n"
     ]
    },
    {
     "data": {
      "text/html": [
       "<strong>pdf:</strong> 2"
      ],
      "text/latex": [
       "\\textbf{pdf:} 2"
      ],
      "text/markdown": [
       "**pdf:** 2"
      ],
      "text/plain": [
       "pdf \n",
       "  2 "
      ]
     },
     "metadata": {},
     "output_type": "display_data"
    }
   ],
   "source": [
    "library(latex2exp)\n",
    "\n",
    "allDates <- list(nividia$Date[1:length(nividiaStableGridGammas[[1]])],\n",
    "                 amd$Date[1:length(amdStableGridGammas[[1]])],\n",
    "                 blackberry$Date[1:length(blackberryStableGridGammas[[1]])],\n",
    "                 fannie$Date[1:length(fannieStableGridGammas[[1]])])\n",
    "for(d in 1:length(allDates)){\n",
    "  allDates[[d]] <- rev(allDates[[d]])\n",
    "  allDates[[d]] <- as.Date(allDates[[d]], '%m/%d/%y')\n",
    "}\n",
    "\n",
    "errSeqsAMD <- cbind(amdStableGridGammas[[6]],amdStableGridGammasDEta[[6]])\n",
    "errSeqsBB <- cbind(blackberryStableGridGammas[[6]],blackberryStableGridGammasDEta[[6]])\n",
    "errSeqsNvidia <- cbind(nividiaStableGridGammas[[6]],nividiaStableGridGammasDEta[[6]])\n",
    "errSeqsFannie <- cbind(fannieStableGridGammas[[6]],fannieStableGridGammasDEta[[6]])\n",
    "\n",
    "amdPlot <- makeCoveragePlot(errSeqsAMD,allDates[[2]],alpha,cols=c(\"Fixed\",\"Dynamic\"),colors=c(4,6),timeCutoff=500,lineTyping=TRUE,alphaC=1)\n",
    "amdPlot <- amdPlot + scale_colour_manual(name=\"Method\",values = c(\"Fixed\"=4,\"Dynamic\"=6),\n",
    "                                                             labels=c(TeX(\"DtACI Fixed $\\\\eta$\"),TeX(\"DtACI Variable $\\\\eta$\")),\n",
    "                                                             aesthetics = c(\"color\")) +\n",
    "                    scale_linetype_manual(name=\"Method\",values = c(\"Fixed\" = \"dashed\", \"Dynamic\" = \"solid\"),\n",
    "                                                             labels=c(TeX(\"DtACI Fixed $\\\\eta$\"),TeX(\"DtACI Variable $\\\\eta$\"))) + ylim(0.8,0.965) +\n",
    "                    theme(axis.text.x = element_blank(),axis.ticks.x = element_blank(),axis.title.x = element_blank(),\n",
    "                         axis.text.y = element_blank(),axis.ticks.y = element_blank(),axis.title.y = element_blank()) +\n",
    "                    theme(legend.key.width = unit(1,\"cm\"))\n",
    "bbPlot <- makeCoveragePlot(errSeqsBB,allDates[[3]],alpha,cols=c(\"Fixed\",\"Dynamic\"),colors=c(4,6),timeCutoff=500,lineTyping=TRUE,alphaC=1)\n",
    "bbPlot <- bbPlot + scale_colour_manual(name=\"Method\",values = c(\"Fixed\"=4,\"Dynamic\"=6),\n",
    "                                                             labels=c(TeX(\"DtACI Fixed $\\\\eta$\"),TeX(\"DtACI Dynamic $\\\\eta$\")),\n",
    "                                                             aesthetics = c(\"color\")) +\n",
    "                    scale_linetype_manual(name=\"Method\",values = c(\"Fixed\" = \"dashed\", \"Dynamic\" = \"solid\"),\n",
    "                                                             labels=c(TeX(\"DtACI Fixed $\\\\eta$\"),TeX(\"DtACI Dynamic $\\\\eta$\"))) + ylim(0.8,0.965) \n",
    "nvidiaPlot <- makeCoveragePlot(errSeqsNvidia,allDates[[1]],alpha,cols=c(\"Fixed\",\"Dynamic\"),colors=c(4,6),timeCutoff=500,lineTyping=TRUE,alphaC=1)\n",
    "nvidiaPlot <- nvidiaPlot + scale_colour_manual(name=\"Method\",values = c(\"Fixed\"=4,\"Dynamic\"=6),\n",
    "                                                             labels=c(TeX(\"DtACI Fixed $\\\\eta$\"),TeX(\"DtACI Dynamic $\\\\eta$\")),\n",
    "                                                             aesthetics = c(\"color\")) + \n",
    "                            scale_linetype_manual(name=\"Method\",values = c(\"Fixed\" = \"dashed\", \"Dynamic\" = \"solid\"),\n",
    "                                                             labels=c(TeX(\"DtACI Fixed $\\\\eta$\"),TeX(\"DtACI Dynamic $\\\\eta$\"))) + ylim(0.8,0.965) +\n",
    "                            theme(axis.text.x = element_blank(),axis.ticks.x = element_blank(),axis.title.x = element_blank())\n",
    "fanniePlot <- makeCoveragePlot(errSeqsFannie,allDates[[4]],alpha,cols=c(\"Fixed\",\"Dynamic\"),colors=c(4,6),timeCutoff=500,lineTyping=TRUE,alphaC=1)\n",
    "fanniePlot <- fanniePlot + scale_colour_manual(name=\"Method\",values = c(\"Fixed\"=4,\"Dynamic\"=6),\n",
    "                                                             labels=c(TeX(\"DtACI Fixed $\\\\eta$\"),TeX(\"DtACI Dynamic $\\\\eta$\")),\n",
    "                                                             aesthetics = c(\"color\")) + \n",
    "                            scale_linetype_manual(name=\"Method\",values = c(\"Fixed\" = \"dashed\", \"Dynamic\" = \"solid\"),\n",
    "                                                             labels=c(TeX(\"DtACI Fixed $\\\\eta$\"),TeX(\"DtACI Dynamic $\\\\eta$\"))) + ylim(0.8,0.965) +\n",
    "                            theme(axis.text.y = element_blank(),axis.ticks.y = element_blank(),axis.title.y = element_blank())\n",
    "\n",
    "legend <- get_legend(amdPlot+theme(legend.position = \"top\",legend.text=element_text(size=60),legend.title=element_blank(),\n",
    "                                   legend.key.width = unit(3,\"line\")))\n",
    "blankplot <- ggplot()+geom_blank(aes(1,1)) + cowplot::theme_nothing()\n",
    "\n",
    "nvidiaPlot <- nvidiaPlot +  annotate('text',x=as.Date(\"2005-09-01\"), y=0.958, label=\"Nvidia\",size=18,fontface=\"bold\") + theme(legend.position = \"none\")\n",
    "amdPlot <- amdPlot  +  annotate('text',x=as.Date(\"1998-01-20\"), y=0.958, label=\"AMD\",size=18,fontface=\"bold\") + theme(legend.position = \"none\")\n",
    "bbPlot <- bbPlot +  annotate('text',x=as.Date(\"2006-10-01\"), y=0.958, label=\"BlackBerry\",size=18,fontface=\"bold\") + theme(legend.position = \"none\")\n",
    "fanniePlot <- fanniePlot +  annotate('text',x=as.Date(\"2000-04-20\"), y=0.958, label=\"Fannie Mae\",size=18,fontface=\"bold\") + theme(legend.position = \"none\")\n",
    "\n",
    "pdf(\"Figures/VolatilityCoverageVariableEta.pdf\", width=30, height = 20)\n",
    "grid.arrange(legend,blankplot,nvidiaPlot,amdPlot,bbPlot,fanniePlot,ncol=2,widths=c(3.5,3),heights = c(0.4,2,2.5))\n",
    "dev.off()"
   ]
  },
  {
   "cell_type": "code",
   "execution_count": 26,
   "id": "38c6629b-fea5-4fdb-b6be-e7e442f1efb9",
   "metadata": {},
   "outputs": [
    {
     "name": "stderr",
     "output_type": "stream",
     "text": [
      "Warning message in get_plot_component(plot, \"guide-box\"):\n",
      "“Multiple components found; returning the first one. To return all, use `return_all = TRUE`.”\n"
     ]
    },
    {
     "data": {
      "text/html": [
       "<strong>pdf:</strong> 2"
      ],
      "text/latex": [
       "\\textbf{pdf:} 2"
      ],
      "text/markdown": [
       "**pdf:** 2"
      ],
      "text/plain": [
       "pdf \n",
       "  2 "
      ]
     },
     "metadata": {},
     "output_type": "display_data"
    }
   ],
   "source": [
    "errSeqsAMD <- cbind(amdStableGridGammasBad[[6]],amdStableGridGammasBadDEta[[6]])\n",
    "errSeqsBB <- cbind(blackberryStableGridGammasBad[[6]],blackberryStableGridGammasBadDEta[[6]])\n",
    "errSeqsNvidia <- cbind(nividiaStableGridGammasBad[[6]],nividiaStableGridGammasBadDEta[[6]])\n",
    "errSeqsFannie <- cbind(fannieStableGridGammasBad[[6]],fannieStableGridGammasBadDEta[[6]])\n",
    "\n",
    "amdPlotBad <- makeCoveragePlot(errSeqsAMD,allDates[[2]],alpha,cols=c(\"Fixed\",\"Dynamic\"),colors=c(4,6),timeCutoff=500,lineTyping=TRUE,alphaC=1)\n",
    "amdPlotBad <- amdPlotBad + scale_colour_manual(name=\"Method\",values = c(\"Fixed\"=4,\"Dynamic\"=6),\n",
    "                                                             labels=c(TeX(\"DtACI Fixed $\\\\eta$\"),TeX(\"DtACI Variable $\\\\eta$\")),\n",
    "                                                             aesthetics = c(\"color\")) +\n",
    "                    scale_linetype_manual(name=\"Method\",values = c(\"Fixed\" = \"dashed\", \"Dynamic\" = \"solid\"),\n",
    "                                                             labels=c(TeX(\"DtACI Fixed $\\\\eta$\"),TeX(\"DtACI Variable $\\\\eta$\"))) + ylim(0.8,0.965) +\n",
    "                    theme(axis.text.x = element_blank(),axis.ticks.x = element_blank(),axis.title.x = element_blank(),\n",
    "                         axis.text.y = element_blank(),axis.ticks.y = element_blank(),axis.title.y = element_blank()) +\n",
    "                    theme(legend.key.width = unit(1,\"cm\"))\n",
    "bbPlotBad <- makeCoveragePlot(errSeqsBB,allDates[[3]],alpha,cols=c(\"Fixed\",\"Dynamic\"),colors=c(4,6),timeCutoff=500,lineTyping=TRUE,alphaC=1)\n",
    "bbPlotBad <- bbPlotBad + scale_colour_manual(name=\"Method\",values = c(\"Fixed\"=4,\"Dynamic\"=6),\n",
    "                                                             labels=c(TeX(\"DtACI Fixed $\\\\eta$\"),TeX(\"DtACI Dynamic $\\\\eta$\")),\n",
    "                                                             aesthetics = c(\"color\")) +\n",
    "                    scale_linetype_manual(name=\"Method\",values = c(\"Fixed\" = \"dashed\", \"Dynamic\" = \"solid\"),\n",
    "                                                             labels=c(TeX(\"DtACI Fixed $\\\\eta$\"),TeX(\"DtACI Dynamic $\\\\eta$\"))) +  ylim(0.8,0.965)\n",
    "nvidiaPlotBad <- makeCoveragePlot(errSeqsNvidia,allDates[[1]],alpha,cols=c(\"Fixed\",\"Dynamic\"),colors=c(4,6),timeCutoff=500,lineTyping=TRUE,alphaC=1)\n",
    "nvidiaPlotBad <- nvidiaPlotBad + scale_colour_manual(name=\"Method\",values = c(\"Fixed\"=4,\"Dynamic\"=6),\n",
    "                                                             labels=c(TeX(\"DtACI Fixed $\\\\eta$\"),TeX(\"DtACI Dynamic $\\\\eta$\")),\n",
    "                                                             aesthetics = c(\"color\")) + \n",
    "                            scale_linetype_manual(name=\"Method\",values = c(\"Fixed\" = \"dashed\", \"Dynamic\" = \"solid\"),\n",
    "                                                             labels=c(TeX(\"DtACI Fixed $\\\\eta$\"),TeX(\"DtACI Dynamic $\\\\eta$\"))) + ylim(0.8,0.965) +\n",
    "                            theme(axis.text.x = element_blank(),axis.ticks.x = element_blank(),axis.title.x = element_blank())\n",
    "fanniePlotBad <- makeCoveragePlot(errSeqsFannie,allDates[[4]],alpha,cols=c(\"Fixed\",\"Dynamic\"),colors=c(4,6),timeCutoff=500,lineTyping=TRUE,alphaC=1)\n",
    "fanniePlotBad <- fanniePlotBad + scale_colour_manual(name=\"Method\",values = c(\"Fixed\"=4,\"Dynamic\"=6),\n",
    "                                                             labels=c(TeX(\"DtACI Fixed $\\\\eta$\"),TeX(\"DtACI Dynamic $\\\\eta$\")),\n",
    "                                                             aesthetics = c(\"color\")) + \n",
    "                            scale_linetype_manual(name=\"Method\",values = c(\"Fixed\" = \"dashed\", \"Dynamic\" = \"solid\"),\n",
    "                                                             labels=c(TeX(\"DtACI Fixed $\\\\eta$\"),TeX(\"DtACI Dynamic $\\\\eta$\"))) +  ylim(0.8,0.965) +\n",
    "                            theme(axis.text.y = element_blank(),axis.ticks.y = element_blank(),axis.title.y = element_blank())\n",
    "\n",
    "legend <- get_legend(amdPlot+theme(legend.position = \"top\",legend.text=element_text(size=60),legend.title=element_blank(),\n",
    "                                   legend.key.width = unit(3,\"line\")))\n",
    "blankplot <- ggplot()+geom_blank(aes(1,1)) + cowplot::theme_nothing()\n",
    "\n",
    "nvidiaPlotBad <- nvidiaPlotBad +  annotate('text',x=as.Date(\"2005-09-01\"), y=0.958, label=\"Nvidia\",size=18,fontface=\"bold\") + theme(legend.position = \"none\")\n",
    "amdPlotBad <- amdPlotBad  +  annotate('text',x=as.Date(\"1998-01-20\"), y=0.958, label=\"AMD\",size=18,fontface=\"bold\") + theme(legend.position = \"none\")\n",
    "bbPlotBad <- bbPlotBad +  annotate('text',x=as.Date(\"2006-10-01\"), y=0.958, label=\"BlackBerry\",size=18,fontface=\"bold\") + theme(legend.position = \"none\")\n",
    "fanniePlotBad <- fanniePlotBad +  annotate('text',x=as.Date(\"2000-04-20\"), y=0.958, label=\"Fannie Mae\",size=18,fontface=\"bold\") + theme(legend.position = \"none\")\n",
    "\n",
    "pdf(\"Figures/VolatilityCoverageVariableEtaBad.pdf\", width=30, height = 20)\n",
    "grid.arrange(legend,blankplot,nvidiaPlotBad,amdPlotBad,bbPlotBad,fanniePlotBad,ncol=2,widths=c(3.5,3),heights = c(0.4,2,2.5))\n",
    "dev.off()"
   ]
  },
  {
   "cell_type": "markdown",
   "id": "1af82c0a-7efe-4bc7-9ed6-42cdafbec027",
   "metadata": {},
   "source": [
    "### Plot prices over time"
   ]
  },
  {
   "cell_type": "code",
   "execution_count": 27,
   "id": "aec96aa3-270f-4324-bc10-63c361c4f04f",
   "metadata": {},
   "outputs": [
    {
     "data": {
      "text/html": [
       "<strong>pdf:</strong> 2"
      ],
      "text/latex": [
       "\\textbf{pdf:} 2"
      ],
      "text/markdown": [
       "**pdf:** 2"
      ],
      "text/plain": [
       "pdf \n",
       "  2 "
      ]
     },
     "metadata": {},
     "output_type": "display_data"
    }
   ],
   "source": [
    "pricesAMD <- rev(amd$Open)\n",
    "returnsAMD <- sapply(2:length(pricesAMD),function(x){(pricesAMD[x] - pricesAMD[x-1])/pricesAMD[x-1]})\n",
    "returnsAMD <- returnsAMD[(length(returnsAMD)-7500):length(returnsAMD)]\n",
    "pricesBlackberry<- rev(blackberry$Open)\n",
    "returnsBlackberry <- sapply(2:length(pricesBlackberry),function(x){(pricesBlackberry[x] - pricesBlackberry[x-1])/pricesBlackberry[x-1]})\n",
    "pricesNividia <- rev(nividia$Open)\n",
    "returnsNividia <- sapply(2:length(pricesNividia),function(x){(pricesNividia[x] - pricesNividia[x-1])/pricesNividia[x-1]})\n",
    "pricesFannie <- rev(fannie$Open)\n",
    "returnsFannie <- sapply(2:length(pricesFannie),function(x){(pricesFannie[x] - pricesFannie[x-1])/pricesFannie[x-1]})\n",
    "returnsFannie <- returnsFannie[(length(returnsFannie)-7500):length(returnsFannie)]\n",
    "\n",
    "\n",
    "allThingsToPlot <- list(pricesNividia[(length(pricesNividia)-length(nividiaStableGridGammas[[1]])-1249):length(pricesNividia)],\n",
    "                        pricesAMD[(length(pricesAMD)-length(amdStableGridGammas[[1]])-1249):length(pricesAMD)],\n",
    "                        pricesBlackberry[(length(pricesBlackberry)-length(blackberryStableGridGammas[[1]])-1249):length(pricesBlackberry)],\n",
    "                        pricesFannie[(length(pricesFannie)-length(fannieStableGridGammas[[1]])-1249):length(pricesFannie)])\n",
    "\n",
    "\n",
    "allDates <- list(nividia$Date[1:(length(nividiaStableGridGammas[[1]])+1250)],\n",
    "                 amd$Date[1:(length(amdStableGridGammas[[1]])+1250)],\n",
    "                 blackberry$Date[1:(length(blackberryStableGridGammas[[1]])+1250)],\n",
    "                 fannie$Date[1:(length(fannieStableGridGammas[[1]])+1250)])\n",
    "for(d in 1:length(allDates)){\n",
    "  allDates[[d]] <- rev(allDates[[d]])\n",
    "  allDates[[d]] <- as.Date(allDates[[d]], '%m/%d/%y')\n",
    "}\n",
    "\n",
    "pricePlots <- list()\n",
    "for(i in 1:4){\n",
    "  temp <- data.frame(prices = allThingsToPlot[[i]], dates = as.Date(allDates[[i]]))\n",
    "  pricePlots[[i]] <- ggplot(temp,aes(dates)) + geom_line(aes(y=prices, colour=\"black\"),size=4) + \n",
    "    scale_colour_manual(name = \"Method\", values =c(\"black\"=\"black\"), labels = c(\"\"))  + theme_bw() +\n",
    "    theme(legend.position = \"none\") + xlab(\"Time\") + ylab(\"Open Price\") +\n",
    "    theme(axis.text=element_text(size=40),axis.title=element_text(size=50,face=\"plain\"))\n",
    "}\n",
    "\n",
    "pricePlots[[1]] <- pricePlots[[1]] + theme(axis.text.x = element_blank(),axis.ticks.x = element_blank(),axis.title.x = element_blank())\n",
    "pricePlots[[2]] <- pricePlots[[2]] + theme(axis.text.x = element_blank(),axis.ticks.x = element_blank(),axis.title.x = element_blank())\n",
    "pricePlots[[4]] <- pricePlots[[4]] + ylim(0,100)\n",
    "\n",
    "pricePlots[[1]] <- pricePlots[[1]] +  annotate('text',x=as.Date(\"2000-03-01\"), y=640, label=\"Nvidia\",size=18,fontface=\"bold\")\n",
    "pricePlots[[2]] <- pricePlots[[2]]  +  annotate('text',x=as.Date(\"1992-06-01\"), y=140, label=\"AMD\",size=18,fontface=\"bold\")\n",
    "pricePlots[[3]] <- pricePlots[[3]] +  annotate('text',x=as.Date(\"2001-08-01\"), y=147, label=\"BlackBerry\",size=18,fontface=\"bold\")\n",
    "pricePlots[[4]] <- pricePlots[[4]] +  annotate('text',x=as.Date(\"1994-12-20\"), y=100, label=\"Fannie Mae\",size=18,fontface=\"bold\")\n",
    "\n",
    "\n",
    "pdf(\"Figures/stockPrices.pdf\", width=30, height = 20)\n",
    "grid.arrange(pricePlots[[1]],pricePlots[[2]],pricePlots[[3]],pricePlots[[4]],ncol=2,widths=c(3,3),heights=c(2,2.5))\n",
    "dev.off()"
   ]
  }
 ],
 "metadata": {
  "kernelspec": {
   "display_name": "R",
   "language": "R",
   "name": "ir"
  },
  "language_info": {
   "codemirror_mode": "r",
   "file_extension": ".r",
   "mimetype": "text/x-r-source",
   "name": "R",
   "pygments_lexer": "r",
   "version": "4.2.3"
  }
 },
 "nbformat": 4,
 "nbformat_minor": 5
}
